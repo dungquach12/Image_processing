{
 "cells": [
  {
   "cell_type": "code",
   "execution_count": 182,
   "id": "ca64bb5d",
   "metadata": {
    "scrolled": true
   },
   "outputs": [],
   "source": [
    "import numpy as np\n",
    "from PIL import Image"
   ]
  },
  {
   "cell_type": "code",
   "execution_count": 183,
   "id": "3755d8c0",
   "metadata": {
    "scrolled": true
   },
   "outputs": [],
   "source": [
    "def change_brightness(img_1d, indices): #Completed\n",
    "        new_img_1d = img_1d.copy()\n",
    "        if indices >= 0:\n",
    "                limit = 255 - indices\n",
    "                new_img_1d[new_img_1d > limit] = 255\n",
    "                new_img_1d[new_img_1d <= limit] += indices\n",
    "        else:\n",
    "                limit = 0 - indices\n",
    "                new_img_1d[new_img_1d < limit] = 0\n",
    "                new_img_1d[new_img_1d >= limit] -= limit\n",
    "        return new_img_1d"
   ]
  },
  {
   "cell_type": "code",
   "execution_count": 184,
   "id": "88ddefc3",
   "metadata": {},
   "outputs": [],
   "source": [
    "def get_luminance_arr(img_1d):\n",
    "    #get a 1d array of Light intensity of each RGB pixel \n",
    "    luminanceArr = np.array(img_1d[:,0]*0.3 + img_1d[:,1]*0.59 + img_1d[:,2]*0.11).astype(np.uint8)\n",
    "    return luminanceArr"
   ]
  },
  {
   "cell_type": "code",
   "execution_count": 185,
   "id": "1ca2d42e",
   "metadata": {},
   "outputs": [],
   "source": [
    "def change_contrast(img_1d, indices):\n",
    "    new_img_1d = img_1d.copy()\n",
    "    if(new_img_1d.ndim == 1):\n",
    "        new_img_1d = new_img_1d.astype(int)\n",
    "        #check if bright than more bright and dark then more dark\n",
    "        new_img_1d[new_img_1d > 128] += indices\n",
    "        new_img_1d[new_img_1d <= 128] -= indices\n",
    "        \n",
    "    else:\n",
    "        new_img_1d = img_1d.astype(int)\n",
    "        #check if bright than more bright and dark then more dark\n",
    "        new_img_1d[get_luminance_arr(new_img_1d) > 128] += indices\n",
    "        new_img_1d[get_luminance_arr(new_img_1d) <= 128] -= indices\n",
    "\n",
    "    #check limit for RGB value\n",
    "    new_img_1d[new_img_1d > 255] = 255\n",
    "    new_img_1d[new_img_1d < 0] = 0\n",
    "    new_img_1d = new_img_1d.astype(np.uint8)\n",
    "    return new_img_1d"
   ]
  },
  {
   "cell_type": "code",
   "execution_count": 186,
   "id": "e76dd61c",
   "metadata": {},
   "outputs": [],
   "source": [
    "def horizontal_flip(imgArr):\n",
    "    new_imgArr = np.fliplr(imgArr)\n",
    "    return new_imgArr"
   ]
  },
  {
   "cell_type": "code",
   "execution_count": 187,
   "id": "ddb74d79",
   "metadata": {},
   "outputs": [],
   "source": [
    "def vertical_flip(imgArr):\n",
    "    new_imgArr = np.flipud(imgArr)\n",
    "    return new_imgArr"
   ]
  },
  {
   "cell_type": "code",
   "execution_count": 188,
   "id": "dff3e5b0",
   "metadata": {},
   "outputs": [],
   "source": [
    "def change_to_grayscale(img_1d):\n",
    "    img_1d_gray = get_luminance_arr(img_1d)\n",
    "    return img_1d_gray"
   ]
  },
  {
   "cell_type": "code",
   "execution_count": 189,
   "id": "c76541b4",
   "metadata": {},
   "outputs": [],
   "source": [
    "def change_to_sepia(img_1d):\n",
    "    img_1d = img_1d.astype(float)\n",
    "    newRed = np.array(0.393*img_1d[:,0] + 0.769*img_1d[:,1] + 0.189*img_1d[:, 2])\n",
    "    newGreen = np.array(0.343*img_1d[:,0] + 0.686*img_1d[:,1] + 0.168*img_1d[:, 2])\n",
    "    newBlue = np.array(0.272*img_1d[:,0] + 0.534*img_1d[:,1] + 0.131*img_1d[:, 2])\n",
    "    newRed[newRed > 255] = 255\n",
    "    newGreen[newGreen > 255] = 255\n",
    "    newBlue[newBlue > 255] = 255\n",
    "    new_img_1d = np.stack((newRed, newGreen, newBlue), axis = 1).astype(np.uint8)\n",
    "    return new_img_1d"
   ]
  },
  {
   "cell_type": "code",
   "execution_count": 190,
   "id": "59203c11",
   "metadata": {},
   "outputs": [],
   "source": [
    "def guassian_blur_colour(imgArr):\n",
    "    guassian_kernel = np.array([[1, 4, 6, 4, 1], [4, 16, 24, 16, 4], [6, 24, 36, 24, 6], [4, 16, 24, 16, 4], [1, 4, 6, 4, 1]]) / 256\n",
    "    indices = 5\n",
    "    radius = int((indices - 1) / 2)\n",
    "    newImgArr = imgArr.copy()\n",
    "    for i in range(radius, imgArr.shape[0] - radius):\n",
    "        for j in range(radius, imgArr.shape[1] - radius):\n",
    "            newImgArr[i, j] = ((guassian_kernel.reshape((indices, indices, 1)) * imgArr[i - radius:i + radius + 1, j - radius:j + radius + 1]).sum(axis = 1).sum(axis = 0))\n",
    "    return newImgArr.astype(np.uint8)\n",
    "    "
   ]
  },
  {
   "cell_type": "code",
   "execution_count": 191,
   "id": "2d750816",
   "metadata": {},
   "outputs": [],
   "source": [
    "def guassian_blur_grayscale(imgArr):\n",
    "    guassian_kernel = np.array([[1, 4, 6, 4, 1], [4, 16, 24, 16, 4], [6, 24, 36, 24, 6], [4, 16, 24, 16, 4], [1, 4, 6, 4, 1]]) / 256\n",
    "    indices = 5\n",
    "    radius = int((indices - 1) / 2)\n",
    "    newImgArr = imgArr.copy()\n",
    "    for i in range(radius, imgArr.shape[0] - radius):\n",
    "        for j in range(radius, imgArr.shape[1] - radius):\n",
    "            newImgArr[i, j] = ((guassian_kernel.reshape * imgArr[i - radius:i + radius + 1, j - radius:j + radius + 1]).sum())\n",
    "    return newImgArr.astype(np.uint8)\n",
    "    "
   ]
  },
  {
   "cell_type": "code",
   "execution_count": 192,
   "id": "3589fe73",
   "metadata": {},
   "outputs": [],
   "source": [
    "def box_blur_colour(imgArr, indices):\n",
    "    if (indices % 2 == 0): indices+= 1\n",
    "    box_kernel = np.ones((indices, indices)) / (indices**2)\n",
    "    radius = indices // 2\n",
    "\n",
    "    newImgArr = imgArr.copy()\n",
    "    for i in range(radius, imgArr.shape[0] - radius):\n",
    "        for j in range(radius, imgArr.shape[1] - radius):\n",
    "            newImgArr[i, j] = ((box_kernel.reshape((indices, indices, 1)) * imgArr[i - radius:i + radius + 1, j - radius:j + radius + 1]).sum(axis = 1).sum(axis = 0))\n",
    "\n",
    "    return newImgArr"
   ]
  },
  {
   "cell_type": "code",
   "execution_count": 193,
   "id": "85908877",
   "metadata": {},
   "outputs": [],
   "source": [
    "def box_blur_grayscale(imgArr, indices):\n",
    "    if (indices % 2 == 0): indices+= 1\n",
    "    box_kernel = np.ones((indices, indices)) / (indices**2)\n",
    "    radius = indices // 2\n",
    "\n",
    "    newImgArr = imgArr.copy()\n",
    "    for i in range(radius, imgArr.shape[0] - radius):\n",
    "        for j in range(radius, imgArr.shape[1] - radius):\n",
    "            newImgArr[i, j] = ((box_kernel * imgArr[i - radius:i + radius + 1, j - radius:j + radius + 1]).sum())\n",
    "\n",
    "    return newImgArr"
   ]
  },
  {
   "cell_type": "code",
   "execution_count": 194,
   "id": "f0529b0e",
   "metadata": {},
   "outputs": [],
   "source": [
    "def sharpen_grayscale(imgArr, amount):\n",
    "    sharpen_kernel = np.array([[0, 0, 0], [0, 1, 0], [0, 0, 0]]) + np.array([[0, -1, 0], [-1, 4, -1], [0, -1, 0]]) * amount\n",
    "    indices = 3\n",
    "    radius = indices // 2\n",
    "    newImgArr = imgArr.copy()\n",
    "    for i in range(radius, imgArr.shape[0] - radius):\n",
    "        for j in range(radius, imgArr.shape[1] - radius):\n",
    "            newImgArr[i, j] = ((sharpen_kernel * imgArr[i - radius:i + radius + 1, j - radius:j + radius + 1]).sum())\n",
    "\n",
    "    return newImgArr"
   ]
  },
  {
   "cell_type": "code",
   "execution_count": 195,
   "id": "6de7048c",
   "metadata": {},
   "outputs": [],
   "source": [
    "def sharpen_colour(imgArr, amount):\n",
    "    sharpen_kernel = np.array([[0, 0, 0], [0, 1, 0], [0, 0, 0]]) + np.array([[0, -1, 0], [-1, 4, -1], [0, -1, 0]]) * amount\n",
    "    indices = 3\n",
    "    radius = indices // 2\n",
    "    newImgArr = imgArr.copy()\n",
    "    for i in range(radius, imgArr.shape[0] - radius):\n",
    "        for j in range(radius, imgArr.shape[1] - radius):\n",
    "            newImgArr[i, j] = ((sharpen_kernel.reshape((indices, indices, 1)) * imgArr[i - radius:i + radius + 1, j - radius:j + radius + 1]).sum(axis = 1).sum(axis = 0))\n",
    "\n",
    "    return newImgArr"
   ]
  },
  {
   "cell_type": "code",
   "execution_count": 196,
   "id": "a8b2258a",
   "metadata": {},
   "outputs": [],
   "source": [
    "def cut_center(imgArr, radius):\n",
    "    height,width = imgArr.shape[0:2]\n",
    "    i = height // 2\n",
    "    j = width // 2\n",
    "    newImgArr = imgArr[i - radius:i + radius + 1, j - radius:j + radius + 1]\n",
    "\n",
    "    return newImgArr"
   ]
  },
  {
   "cell_type": "code",
   "execution_count": 197,
   "id": "b275d63d",
   "metadata": {},
   "outputs": [],
   "source": [
    "def cut_round_center(imgArr, radius):\n",
    "    # remind to myself, x is the horizontal axis\n",
    "    height,width = imgArr.shape[0:2]\n",
    "    y = np.arange(0, height)\n",
    "    x = np.arange(0, width)\n",
    "\n",
    "    # get the centre of the circle (= centre of the pic)\n",
    "    cy = height // 2\n",
    "    cx = width // 2\n",
    "    # make an boolean arr by compare the distance arr with the desire radius\n",
    "    mask = (x[np.newaxis,:]-cx)**2 + (y[:,np.newaxis]-cy)**2 < radius**2 \n",
    "    new_imgArr = imgArr.copy()\n",
    "    new_imgArr[mask == True] = 0\n",
    "    new_imgArr2 = np.dstack((imgArr, new_imgArr))\n",
    "    return new_imgArr2"
   ]
  },
  {
   "cell_type": "code",
   "execution_count": 198,
   "id": "7cda6b33",
   "metadata": {},
   "outputs": [],
   "source": [
    "def options():\n",
    "    print('Choose options:  ')\n",
    "    return input()\n"
   ]
  },
  {
   "cell_type": "code",
   "execution_count": 199,
   "id": "22d36a8c",
   "metadata": {},
   "outputs": [],
   "source": [
    "def image_process(name):\n",
    "    img = Image.open(name)\n",
    "    imgArr = np.array(img)\n",
    "    if(imgArr.ndim == 2):\n",
    "        img_1d = imgArr.reshape(imgArr.size)\n",
    "    \n",
    "    if(imgArr.ndim == 3):\n",
    "        img_1d = imgArr.reshape((-1, imgArr.shape[2]))\n",
    "\n",
    "\n",
    "    while(True):\n",
    "        print('0,   1,          2,          3,      4,      5,          6,      7,      8,      9,      10,     11')\n",
    "        print('All, Brightnest, Contract,   HFlip,  VFlip,  Grayscale,  Sepia,  Blur,   Sharp,  SCut,   CCut,   Exit')\n",
    "        choice = options()\n",
    "        if choice == '11':\n",
    "            break\n",
    "        if choice == '0':\n",
    "            # Increase brightness to 50\n",
    "            img = Image.fromarray(change_brightness(img_1d, 50).reshape(imgArr.shape[0:imgArr.ndim])).save(str(name) + \"_brightness_50.png\")\n",
    "\n",
    "            # Increase contract to 30\n",
    "            img = Image.fromarray(change_contrast(img_1d, 30).reshape(imgArr.shape[0:imgArr.ndim])).save(str(name) + \"_contract_30.png\")\n",
    "\n",
    "            # Flip the pic horizontal\n",
    "            img = Image.fromarray(horizontal_flip(imgArr)).save(str(name) + \"_hFlip.png\")\n",
    "\n",
    "            # Flip the pic vertical\n",
    "            img = Image.fromarray(vertical_flip(imgArr)).save(str(name) + \"_vFlip.png\")\n",
    "\n",
    "            # Convert to grayscale if pic is colour\n",
    "            if imgArr.ndim == 2: print('already grayscale')\n",
    "            else:\n",
    "                img = Image.fromarray(change_to_grayscale(img_1d).reshape(imgArr.shape[0:imgArr.ndim - 1])).save(str(name) + \"_grayscale.png\")\n",
    "\n",
    "            # Convert to sepia\n",
    "            if imgArr.ndim == 2: print('Can\\'t convert grayscale')\n",
    "            else:\n",
    "                img = Image.fromarray(change_to_sepia(img_1d).reshape(imgArr.shape[0:imgArr.ndim])).save(str(name) + \"_sepia.png\")\n",
    "\n",
    "            # Box_blur and Guassian blur\n",
    "            if imgArr.ndim == 2:\n",
    "                img = Image.fromarray(box_blur_grayscale(imgArr, 3)).save(str(name) + \"_boxBlur.png\")\n",
    "                img = Image.fromarray(guassian_blur_grayscale(imgArr)).save(str(name) + \"_guassianBlur.png\")\n",
    "            else:\n",
    "                img = Image.fromarray(box_blur_colour(imgArr, 3)).save(str(name) + \"_boxBlur.png\")\n",
    "                img = Image.fromarray(guassian_blur_colour(imgArr)).save(str(name) + \"_guassianBlur.png\")\n",
    "\n",
    "            # Sharpen the box_blur pic\n",
    "            newName = str(name) + \"_boxBlur.png\"\n",
    "            if imgArr.ndim == 2:\n",
    "                img = Image.fromarray(sharpen_grayscale(np.array(Image.open(newName)), 1)).save(str(name) + \"_sharpen.png\")\n",
    "            else:\n",
    "                img = Image.fromarray(sharpen_colour(np.array(Image.open(newName)), 1)).save(str(name) + \"_sharpen.png\")\n",
    "\n",
    "            # Cut a square pic at the center of the pic with size = imgArr.shape[0]//4*2\n",
    "            img = Image.fromarray(cut_center(imgArr, imgArr.shape[0]//4)).save(str(name) + \"_cut_center.png\")\n",
    "\n",
    "            # Cut a circle pic at the center of the pic with radius of imgArr.shape[0]//2\n",
    "            img = Image.fromarray(cut_round_center(imgArr, imgArr.shape[0]//2)).save(str(name) + \"_cut_round.png\")\n",
    "            \n",
    "        elif choice == '1':\n",
    "            print('Amount?: ')\n",
    "            input1 = int(input())\n",
    "            img = Image.fromarray(change_brightness(img_1d, input1).reshape(imgArr.shape[0:imgArr.ndim])).save(str(name) + \"_brightness.png\")  \n",
    "        elif choice == '2':\n",
    "            print('Amount?: ')\n",
    "            input2 = int(input())\n",
    "            img = Image.fromarray(change_contrast(img_1d, input2).reshape(imgArr.shape[0:imgArr.ndim])).save(str(name) + \"_contract.png\")\n",
    "        elif choice == '3':\n",
    "            img = Image.fromarray(horizontal_flip(imgArr)).save(str(name) + \"_hFlip.png\")\n",
    "        elif choice == '4':\n",
    "            img = Image.fromarray(vertical_flip(imgArr)).save(str(name) + \"_vFlip.png\")\n",
    "        elif choice == '5':\n",
    "            if imgArr.ndim == 2: print('already grayscale')\n",
    "            else:\n",
    "                img = Image.fromarray(change_to_grayscale(img_1d).reshape(imgArr.shape[0:imgArr.ndim - 1])).save(str(name) + \"_grayscale.png\")\n",
    "        elif choice == '6':\n",
    "            if imgArr.ndim == 2: print('Can\\'t convert grayscale')\n",
    "            else:\n",
    "                img = Image.fromarray(change_to_sepia(img_1d).reshape(imgArr.shape[0:imgArr.ndim])).save(str(name) + \"_sepia.png\")\n",
    "        elif choice == '7':\n",
    "            print('box blur kernel ?x?: ')\n",
    "            input7 = int(input())\n",
    "            if imgArr.ndim == 2:\n",
    "                img = Image.fromarray(box_blur_grayscale(imgArr, input7)).save(str(name) + \"_boxBlur.png\")\n",
    "                img = Image.fromarray(guassian_blur_grayscale(imgArr)).save(str(name) + \"_guassianBlur.png\")\n",
    "            else:\n",
    "                img = Image.fromarray(box_blur_colour(imgArr, input7)).save(str(name) + \"_boxBlur.png\")\n",
    "                img = Image.fromarray(guassian_blur_colour(imgArr)).save(str(name) + \"_guassianBlur.png\")\n",
    "        elif choice == '8':\n",
    "            print('Amount?: ')\n",
    "            input8 = int(input())\n",
    "            if imgArr.ndim == 2:\n",
    "                img = Image.fromarray(sharpen_grayscale(imgArr, input8)).save(str(name) + \"_sharpen.png\")\n",
    "            else:\n",
    "                img = Image.fromarray(sharpen_colour(imgArr, input8)).save(str(name) + \"_sharpen.png\")\n",
    "        elif choice == '9':\n",
    "            print('Size of the square ?**2: ')\n",
    "            input9 = int(input())\n",
    "            img = Image.fromarray(cut_center(imgArr, input9)).save(str(name) + \"_cut_center.png\")\n",
    "        elif choice == '10':\n",
    "            print('Radius?: ')\n",
    "            input10 = int(input())\n",
    "            img = Image.fromarray(cut_round_center(imgArr, input10)).save(str(name) + \"_cut_round.png\")\n",
    "        else: print('Not an option!')\n",
    "\n",
    "\n",
    "   \n",
    "        "
   ]
  },
  {
   "cell_type": "code",
   "execution_count": 200,
   "id": "c1876c9c",
   "metadata": {},
   "outputs": [],
   "source": [
    "def main():\n",
    "    print('Input filename: ')\n",
    "    name = input()\n",
    "    image_process(name)\n",
    "    \n",
    "    "
   ]
  },
  {
   "cell_type": "code",
   "execution_count": 201,
   "id": "dc111f84",
   "metadata": {},
   "outputs": [
    {
     "name": "stdout",
     "output_type": "stream",
     "text": [
      "Input filename: \n",
      "0,   1,          2,          3,      4,      5,          6,      7,      8,      9,      10,     11\n",
      "All, Brightnest, Contract,   HFlip,  VFlip,  Grayscale,  Sepia,  Blur,   Sharp,  SCut,   CCut,   Exit\n",
      "Choose options:  \n",
      "Radius?: \n"
     ]
    },
    {
     "ename": "TypeError",
     "evalue": "Cannot handle this data type: (1, 1, 6), |u1",
     "output_type": "error",
     "traceback": [
      "\u001b[1;31m---------------------------------------------------------------------------\u001b[0m",
      "\u001b[1;31mKeyError\u001b[0m                                  Traceback (most recent call last)",
      "File \u001b[1;32md:\\Homework stuff\\Anaconda\\lib\\site-packages\\PIL\\Image.py:3080\u001b[0m, in \u001b[0;36mfromarray\u001b[1;34m(obj, mode)\u001b[0m\n\u001b[0;32m   3079\u001b[0m \u001b[39mtry\u001b[39;00m:\n\u001b[1;32m-> 3080\u001b[0m     mode, rawmode \u001b[39m=\u001b[39m _fromarray_typemap[typekey]\n\u001b[0;32m   3081\u001b[0m \u001b[39mexcept\u001b[39;00m \u001b[39mKeyError\u001b[39;00m \u001b[39mas\u001b[39;00m e:\n",
      "\u001b[1;31mKeyError\u001b[0m: ((1, 1, 6), '|u1')",
      "\nThe above exception was the direct cause of the following exception:\n",
      "\u001b[1;31mTypeError\u001b[0m                                 Traceback (most recent call last)",
      "Cell \u001b[1;32mIn[201], line 1\u001b[0m\n\u001b[1;32m----> 1\u001b[0m main()\n",
      "Cell \u001b[1;32mIn[200], line 4\u001b[0m, in \u001b[0;36mmain\u001b[1;34m()\u001b[0m\n\u001b[0;32m      2\u001b[0m \u001b[39mprint\u001b[39m(\u001b[39m'\u001b[39m\u001b[39mInput filename: \u001b[39m\u001b[39m'\u001b[39m)\n\u001b[0;32m      3\u001b[0m name \u001b[39m=\u001b[39m \u001b[39minput\u001b[39m()\n\u001b[1;32m----> 4\u001b[0m image_process(name)\n",
      "Cell \u001b[1;32mIn[199], line 104\u001b[0m, in \u001b[0;36mimage_process\u001b[1;34m(name)\u001b[0m\n\u001b[0;32m    102\u001b[0m     \u001b[39mprint\u001b[39m(\u001b[39m'\u001b[39m\u001b[39mRadius?: \u001b[39m\u001b[39m'\u001b[39m)\n\u001b[0;32m    103\u001b[0m     input10 \u001b[39m=\u001b[39m \u001b[39mint\u001b[39m(\u001b[39minput\u001b[39m())\n\u001b[1;32m--> 104\u001b[0m     img \u001b[39m=\u001b[39m Image\u001b[39m.\u001b[39;49mfromarray(cut_round_center(imgArr, input10))\u001b[39m.\u001b[39msave(\u001b[39mstr\u001b[39m(name) \u001b[39m+\u001b[39m \u001b[39m\"\u001b[39m\u001b[39m_cut_round.png\u001b[39m\u001b[39m\"\u001b[39m)\n\u001b[0;32m    105\u001b[0m \u001b[39melse\u001b[39;00m: \u001b[39mprint\u001b[39m(\u001b[39m'\u001b[39m\u001b[39mNot an option!\u001b[39m\u001b[39m'\u001b[39m)\n",
      "File \u001b[1;32md:\\Homework stuff\\Anaconda\\lib\\site-packages\\PIL\\Image.py:3083\u001b[0m, in \u001b[0;36mfromarray\u001b[1;34m(obj, mode)\u001b[0m\n\u001b[0;32m   3081\u001b[0m     \u001b[39mexcept\u001b[39;00m \u001b[39mKeyError\u001b[39;00m \u001b[39mas\u001b[39;00m e:\n\u001b[0;32m   3082\u001b[0m         msg \u001b[39m=\u001b[39m \u001b[39m\"\u001b[39m\u001b[39mCannot handle this data type: \u001b[39m\u001b[39m%s\u001b[39;00m\u001b[39m, \u001b[39m\u001b[39m%s\u001b[39;00m\u001b[39m\"\u001b[39m \u001b[39m%\u001b[39m typekey\n\u001b[1;32m-> 3083\u001b[0m         \u001b[39mraise\u001b[39;00m \u001b[39mTypeError\u001b[39;00m(msg) \u001b[39mfrom\u001b[39;00m \u001b[39me\u001b[39;00m\n\u001b[0;32m   3084\u001b[0m \u001b[39melse\u001b[39;00m:\n\u001b[0;32m   3085\u001b[0m     rawmode \u001b[39m=\u001b[39m mode\n",
      "\u001b[1;31mTypeError\u001b[0m: Cannot handle this data type: (1, 1, 6), |u1"
     ]
    }
   ],
   "source": [
    "main()"
   ]
  },
  {
   "cell_type": "code",
   "execution_count": null,
   "id": "05314fd4",
   "metadata": {},
   "outputs": [],
   "source": [
    "x = np.array([1,2,2,1])\n",
    "y = np.array([2,2])\n",
    "print(np.dstack((x, y)))"
   ]
  }
 ],
 "metadata": {
  "kernelspec": {
   "display_name": "Python 3 (ipykernel)",
   "language": "python",
   "name": "python3"
  },
  "language_info": {
   "codemirror_mode": {
    "name": "ipython",
    "version": 3
   },
   "file_extension": ".py",
   "mimetype": "text/x-python",
   "name": "python",
   "nbconvert_exporter": "python",
   "pygments_lexer": "ipython3",
   "version": "3.10.9"
  }
 },
 "nbformat": 4,
 "nbformat_minor": 5
}
